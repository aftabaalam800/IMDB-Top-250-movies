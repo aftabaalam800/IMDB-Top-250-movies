{
  "cells": [
    {
      "cell_type": "code",
      "execution_count": 19,
      "metadata": {
        "id": "72WDb84g3QIs"
      },
      "outputs": [],
      "source": [
        "import requests"
      ]
    },
    {
      "cell_type": "code",
      "execution_count": 20,
      "metadata": {},
      "outputs": [
        {
          "name": "stdout",
          "output_type": "stream",
          "text": [
            "Requirement already satisfied: selenium in c:\\users\\lenovo\\appdata\\local\\programs\\python\\python312\\lib\\site-packages (4.21.0)Note: you may need to restart the kernel to use updated packages.\n",
            "Requirement already satisfied: urllib3<3,>=1.26 in c:\\users\\lenovo\\appdata\\local\\programs\\python\\python312\\lib\\site-packages (from urllib3[socks]<3,>=1.26->selenium) (2.2.1)\n",
            "Requirement already satisfied: trio~=0.17 in c:\\users\\lenovo\\appdata\\local\\programs\\python\\python312\\lib\\site-packages (from selenium) (0.25.1)\n",
            "Requirement already satisfied: trio-websocket~=0.9 in c:\\users\\lenovo\\appdata\\local\\programs\\python\\python312\\lib\\site-packages (from selenium) (0.11.1)\n",
            "Requirement already satisfied: certifi>=2021.10.8 in c:\\users\\lenovo\\appdata\\local\\programs\\python\\python312\\lib\\site-packages (from selenium) (2024.2.2)\n",
            "Requirement already satisfied: typing_extensions>=4.9.0 in c:\\users\\lenovo\\appdata\\local\\programs\\python\\python312\\lib\\site-packages (from selenium) (4.12.2)\n",
            "Requirement already satisfied: attrs>=23.2.0 in c:\\users\\lenovo\\appdata\\local\\programs\\python\\python312\\lib\\site-packages (from trio~=0.17->selenium) (23.2.0)\n",
            "Requirement already satisfied: sortedcontainers in c:\\users\\lenovo\\appdata\\local\\programs\\python\\python312\\lib\\site-packages (from trio~=0.17->selenium) (2.4.0)\n",
            "Requirement already satisfied: idna in c:\\users\\lenovo\\appdata\\local\\programs\\python\\python312\\lib\\site-packages (from trio~=0.17->selenium) (3.6)\n",
            "Requirement already satisfied: outcome in c:\\users\\lenovo\\appdata\\local\\programs\\python\\python312\\lib\\site-packages (from trio~=0.17->selenium) (1.3.0.post0)\n",
            "Requirement already satisfied: sniffio>=1.3.0 in c:\\users\\lenovo\\appdata\\local\\programs\\python\\python312\\lib\\site-packages (from trio~=0.17->selenium) (1.3.1)\n",
            "Requirement already satisfied: cffi>=1.14 in c:\\users\\lenovo\\appdata\\local\\programs\\python\\python312\\lib\\site-packages (from trio~=0.17->selenium) (1.16.0)\n",
            "Requirement already satisfied: wsproto>=0.14 in c:\\users\\lenovo\\appdata\\local\\programs\\python\\python312\\lib\\site-packages (from trio-websocket~=0.9->selenium) (1.2.0)\n",
            "Requirement already satisfied: pysocks!=1.5.7,<2.0,>=1.5.6 in c:\\users\\lenovo\\appdata\\local\\programs\\python\\python312\\lib\\site-packages (from urllib3[socks]<3,>=1.26->selenium) (1.7.1)\n",
            "Requirement already satisfied: pycparser in c:\\users\\lenovo\\appdata\\local\\programs\\python\\python312\\lib\\site-packages (from cffi>=1.14->trio~=0.17->selenium) (2.21)\n",
            "Requirement already satisfied: h11<1,>=0.9.0 in c:\\users\\lenovo\\appdata\\local\\programs\\python\\python312\\lib\\site-packages (from wsproto>=0.14->trio-websocket~=0.9->selenium) (0.14.0)\n",
            "\n"
          ]
        }
      ],
      "source": [
        "pip install selenium"
      ]
    },
    {
      "cell_type": "code",
      "execution_count": 21,
      "metadata": {},
      "outputs": [
        {
          "name": "stdout",
          "output_type": "stream",
          "text": [
            "Requirement already satisfied: beautifulsoup4 in c:\\users\\lenovo\\appdata\\local\\programs\\python\\python312\\lib\\site-packages (4.12.3)Note: you may need to restart the kernel to use updated packages.\n",
            "\n",
            "Requirement already satisfied: pandas in c:\\users\\lenovo\\appdata\\local\\programs\\python\\python312\\lib\\site-packages (2.2.1)\n"
          ]
        },
        {
          "name": "stderr",
          "output_type": "stream",
          "text": [
            "ERROR: Could not find a version that satisfies the requirement time (from versions: none)\n",
            "ERROR: No matching distribution found for time\n"
          ]
        }
      ],
      "source": [
        "pip install beautifulsoup4 pandas time"
      ]
    },
    {
      "cell_type": "code",
      "execution_count": 22,
      "metadata": {},
      "outputs": [],
      "source": [
        "from bs4 import BeautifulSoup"
      ]
    },
    {
      "cell_type": "code",
      "execution_count": 23,
      "metadata": {},
      "outputs": [],
      "source": [
        "import pandas as pd\n",
        "import time\n",
        "import numpy as np"
      ]
    },
    {
      "cell_type": "code",
      "execution_count": 24,
      "metadata": {},
      "outputs": [],
      "source": [
        "from selenium import webdriver\n",
        "from selenium.webdriver.common.by import By\n",
        "from selenium.webdriver.common.keys import Keys"
      ]
    },
    {
      "cell_type": "code",
      "execution_count": 25,
      "metadata": {},
      "outputs": [],
      "source": [
        "url = \"https://www.imdb.com/chart/top/\"           #url of the website that i want to extract"
      ]
    },
    {
      "cell_type": "code",
      "execution_count": 26,
      "metadata": {},
      "outputs": [],
      "source": [
        "# header={'User-Agent':'Mozilla/5.0 (Windows NT 6.3; Win 64 ; x64) Apple WeKit /537.36(KHTML , like Gecko) Chrome/80.0.3987.162 Safari/537.36'}  #user agent if i got response error 403"
      ]
    },
    {
      "cell_type": "code",
      "execution_count": 27,
      "metadata": {},
      "outputs": [],
      "source": [
        "# response = requests.get(url, headers=header)"
      ]
    },
    {
      "cell_type": "code",
      "execution_count": 28,
      "metadata": {},
      "outputs": [],
      "source": [
        "# print(response)"
      ]
    },
    {
      "cell_type": "code",
      "execution_count": 29,
      "metadata": {},
      "outputs": [],
      "source": [
        "# soup = BeautifulSoup(response.content, 'html.parser')"
      ]
    },
    {
      "cell_type": "code",
      "execution_count": 37,
      "metadata": {},
      "outputs": [],
      "source": [
        "driver = webdriver.Chrome()"
      ]
    },
    {
      "cell_type": "code",
      "execution_count": 38,
      "metadata": {},
      "outputs": [],
      "source": [
        "driver.get('https://www.imdb.com/chart/top/')\n"
      ]
    },
    {
      "cell_type": "code",
      "execution_count": 39,
      "metadata": {},
      "outputs": [],
      "source": [
        "\n",
        "soup = BeautifulSoup(driver.page_source)"
      ]
    },
    {
      "cell_type": "code",
      "execution_count": 30,
      "metadata": {},
      "outputs": [],
      "source": [
        "# movie_data = {\"Movie_Name\": [], \"Release_year\":[], 'Duration':[], \"Grade\":[], 'Rating':[], 'Count_Rating': []}"
      ]
    },
    {
      "cell_type": "code",
      "execution_count": 40,
      "metadata": {},
      "outputs": [],
      "source": [
        "movies= soup.find_all('div', class_='sc-b189961a-0 hBZnfJ cli-children')\n",
        "movie_data = {\"Movie_Name\": [], \"Release_year\":[], 'Duration':[], 'Rating':[], 'Grade': [], 'Review_count':[]}"
      ]
    },
    {
      "cell_type": "code",
      "execution_count": 48,
      "metadata": {},
      "outputs": [],
      "source": [
        "for mov in movies:\n",
        "    try:\n",
        "        movie_data['Movie_Name'].append(mov.find('h3', class_=\"ipc-title__text\").text)\n",
        "    except:\n",
        "        movie_data['Movie_Name'].append('Na')\n",
        "    try:\n",
        "        movie_data['Release_year'].append(mov.find('span', class_='sc-b189961a-8 kLaxqf cli-title-metadata-item').text)\n",
        "    except:\n",
        "        movie_data['Release_year'].append('Na')\n",
        "    try:\n",
        "        movie_data['Duration'].append(mov.find('div',class_='sc-b189961a-7 feoqjK cli-title-metadata').text[4:10])\n",
        "    except:\n",
        "        movies_data['duration'].append('Na')\n",
        "    try:\n",
        "        movie_data['Rating'].append(mov.find('span',class_='ipc-rating-star ipc-rating-star--base ipc-rating-star--imdb ratingGroup--imdb-rating').text[:3])\n",
        "    except:\n",
        "        movie_data['Rating'].append('Na')\n",
        "    try:\n",
        "        movie_data['Grade'].append(mov.find('div',class_='sc-b189961a-7 feoqjK cli-title-metadata').text[10:])\n",
        "    except:\n",
        "        movie_data['Grade'].append('Na')\n",
        "    try:\n",
        "        movie_data['Review_count'].append(mov.find('span',class_='ipc-rating-star--voteCount').text.replace(')', '').split('\\xa0(')[1])\n",
        "    except:\n",
        "        movie_data['Review_count'].append('Na')\n",
        "\n",
        "\n",
        "    \n",
        "    \n",
        "    \n"
      ]
    },
    {
      "cell_type": "code",
      "execution_count": 49,
      "metadata": {},
      "outputs": [],
      "source": [
        "data = pd.DataFrame(movie_data)"
      ]
    },
    {
      "cell_type": "code",
      "execution_count": 50,
      "metadata": {},
      "outputs": [
        {
          "data": {
            "text/html": [
              "<div>\n",
              "<style scoped>\n",
              "    .dataframe tbody tr th:only-of-type {\n",
              "        vertical-align: middle;\n",
              "    }\n",
              "\n",
              "    .dataframe tbody tr th {\n",
              "        vertical-align: top;\n",
              "    }\n",
              "\n",
              "    .dataframe thead th {\n",
              "        text-align: right;\n",
              "    }\n",
              "</style>\n",
              "<table border=\"1\" class=\"dataframe\">\n",
              "  <thead>\n",
              "    <tr style=\"text-align: right;\">\n",
              "      <th></th>\n",
              "      <th>Movie_Name</th>\n",
              "      <th>Release_year</th>\n",
              "      <th>Duration</th>\n",
              "      <th>Rating</th>\n",
              "      <th>Grade</th>\n",
              "      <th>Review_count</th>\n",
              "    </tr>\n",
              "  </thead>\n",
              "  <tbody>\n",
              "    <tr>\n",
              "      <th>0</th>\n",
              "      <td>1. The Shawshank Redemption</td>\n",
              "      <td>1994</td>\n",
              "      <td>2h 22m</td>\n",
              "      <td>9.3</td>\n",
              "      <td>R</td>\n",
              "      <td>2.9M</td>\n",
              "    </tr>\n",
              "    <tr>\n",
              "      <th>1</th>\n",
              "      <td>2. The Godfather</td>\n",
              "      <td>1972</td>\n",
              "      <td>2h 55m</td>\n",
              "      <td>9.2</td>\n",
              "      <td>R</td>\n",
              "      <td>2M</td>\n",
              "    </tr>\n",
              "    <tr>\n",
              "      <th>2</th>\n",
              "      <td>3. The Dark Knight</td>\n",
              "      <td>2008</td>\n",
              "      <td>2h 32m</td>\n",
              "      <td>9.0</td>\n",
              "      <td>PG-13</td>\n",
              "      <td>2.9M</td>\n",
              "    </tr>\n",
              "    <tr>\n",
              "      <th>3</th>\n",
              "      <td>4. The Godfather Part II</td>\n",
              "      <td>1974</td>\n",
              "      <td>3h 22m</td>\n",
              "      <td>9.0</td>\n",
              "      <td>R</td>\n",
              "      <td>1.4M</td>\n",
              "    </tr>\n",
              "    <tr>\n",
              "      <th>4</th>\n",
              "      <td>5. 12 Angry Men</td>\n",
              "      <td>1957</td>\n",
              "      <td>1h 36m</td>\n",
              "      <td>9.0</td>\n",
              "      <td>Approved</td>\n",
              "      <td>871K</td>\n",
              "    </tr>\n",
              "    <tr>\n",
              "      <th>...</th>\n",
              "      <td>...</td>\n",
              "      <td>...</td>\n",
              "      <td>...</td>\n",
              "      <td>...</td>\n",
              "      <td>...</td>\n",
              "      <td>...</td>\n",
              "    </tr>\n",
              "    <tr>\n",
              "      <th>745</th>\n",
              "      <td>246. It Happened One Night</td>\n",
              "      <td>1934</td>\n",
              "      <td>1h 45m</td>\n",
              "      <td>8.1</td>\n",
              "      <td>Approved</td>\n",
              "      <td>113K</td>\n",
              "    </tr>\n",
              "    <tr>\n",
              "      <th>746</th>\n",
              "      <td>247. Drishyam</td>\n",
              "      <td>2015</td>\n",
              "      <td>2h 43m</td>\n",
              "      <td>8.2</td>\n",
              "      <td>Not Rated</td>\n",
              "      <td>95K</td>\n",
              "    </tr>\n",
              "    <tr>\n",
              "      <th>747</th>\n",
              "      <td>248. Dances with Wolves</td>\n",
              "      <td>1990</td>\n",
              "      <td>3h 1mP</td>\n",
              "      <td>8.0</td>\n",
              "      <td>G-13</td>\n",
              "      <td>293K</td>\n",
              "    </tr>\n",
              "    <tr>\n",
              "      <th>748</th>\n",
              "      <td>249. Aladdin</td>\n",
              "      <td>1992</td>\n",
              "      <td>1h 30m</td>\n",
              "      <td>8.0</td>\n",
              "      <td>G</td>\n",
              "      <td>470K</td>\n",
              "    </tr>\n",
              "    <tr>\n",
              "      <th>749</th>\n",
              "      <td>250. Andhadhun</td>\n",
              "      <td>2018</td>\n",
              "      <td>2h 19m</td>\n",
              "      <td>8.2</td>\n",
              "      <td>Not Rated</td>\n",
              "      <td>103K</td>\n",
              "    </tr>\n",
              "  </tbody>\n",
              "</table>\n",
              "<p>750 rows × 6 columns</p>\n",
              "</div>"
            ],
            "text/plain": [
              "                      Movie_Name Release_year Duration Rating      Grade  \\\n",
              "0    1. The Shawshank Redemption         1994   2h 22m    9.3          R   \n",
              "1               2. The Godfather         1972   2h 55m    9.2          R   \n",
              "2             3. The Dark Knight         2008   2h 32m    9.0      PG-13   \n",
              "3       4. The Godfather Part II         1974   3h 22m    9.0          R   \n",
              "4                5. 12 Angry Men         1957   1h 36m    9.0   Approved   \n",
              "..                           ...          ...      ...    ...        ...   \n",
              "745   246. It Happened One Night         1934   1h 45m    8.1   Approved   \n",
              "746                247. Drishyam         2015   2h 43m    8.2  Not Rated   \n",
              "747      248. Dances with Wolves         1990   3h 1mP    8.0       G-13   \n",
              "748                 249. Aladdin         1992   1h 30m    8.0          G   \n",
              "749               250. Andhadhun         2018   2h 19m    8.2  Not Rated   \n",
              "\n",
              "    Review_count  \n",
              "0           2.9M  \n",
              "1             2M  \n",
              "2           2.9M  \n",
              "3           1.4M  \n",
              "4           871K  \n",
              "..           ...  \n",
              "745         113K  \n",
              "746          95K  \n",
              "747         293K  \n",
              "748         470K  \n",
              "749         103K  \n",
              "\n",
              "[750 rows x 6 columns]"
            ]
          },
          "execution_count": 50,
          "metadata": {},
          "output_type": "execute_result"
        }
      ],
      "source": [
        "data"
      ]
    },
    {
      "cell_type": "code",
      "execution_count": 44,
      "metadata": {},
      "outputs": [],
      "source": [
        "data.to_csv(\"top_250_movies\")"
      ]
    },
    {
      "cell_type": "code",
      "execution_count": null,
      "metadata": {},
      "outputs": [],
      "source": []
    },
    {
      "cell_type": "code",
      "execution_count": null,
      "metadata": {},
      "outputs": [],
      "source": []
    },
    {
      "cell_type": "code",
      "execution_count": 35,
      "metadata": {},
      "outputs": [],
      "source": [
        "df= soup.find_all('li', class_='ipc-metadata-list-summary-item sc-10233bc-0 iherUv cli-parent')  #checking extract part as trial for seperate that its extrating or not"
      ]
    },
    {
      "cell_type": "code",
      "execution_count": 36,
      "metadata": {},
      "outputs": [
        {
          "data": {
            "text/plain": [
              "25"
            ]
          },
          "execution_count": 36,
          "metadata": {},
          "output_type": "execute_result"
        }
      ],
      "source": [
        "len(df)"
      ]
    },
    {
      "cell_type": "code",
      "execution_count": null,
      "metadata": {},
      "outputs": [],
      "source": []
    },
    {
      "cell_type": "code",
      "execution_count": null,
      "metadata": {},
      "outputs": [],
      "source": []
    },
    {
      "cell_type": "code",
      "execution_count": null,
      "metadata": {},
      "outputs": [],
      "source": []
    },
    {
      "cell_type": "code",
      "execution_count": null,
      "metadata": {},
      "outputs": [],
      "source": []
    },
    {
      "cell_type": "code",
      "execution_count": null,
      "metadata": {},
      "outputs": [],
      "source": []
    },
    {
      "cell_type": "markdown",
      "metadata": {},
      "source": []
    },
    {
      "cell_type": "code",
      "execution_count": 5,
      "metadata": {},
      "outputs": [],
      "source": [
        "# driver = webdriver.Chrome()"
      ]
    },
    {
      "cell_type": "code",
      "execution_count": 7,
      "metadata": {},
      "outputs": [],
      "source": [
        "# driver.get('https://www.imdb.com/chart/top/')\n"
      ]
    },
    {
      "cell_type": "code",
      "execution_count": 13,
      "metadata": {},
      "outputs": [],
      "source": [
        "\n",
        "# rest = BeautifulSoup(driver.page_source)"
      ]
    },
    {
      "cell_type": "code",
      "execution_count": 17,
      "metadata": {},
      "outputs": [],
      "source": [
        "# movi = rest.find_all('div', class_='sc-b189961a-0 hBZnfJ cli-children')"
      ]
    },
    {
      "cell_type": "code",
      "execution_count": 18,
      "metadata": {},
      "outputs": [
        {
          "data": {
            "text/plain": [
              "250"
            ]
          },
          "execution_count": 18,
          "metadata": {},
          "output_type": "execute_result"
        }
      ],
      "source": [
        "# len(movi)"
      ]
    }
  ],
  "metadata": {
    "colab": {
      "provenance": []
    },
    "kernelspec": {
      "display_name": "Python 3",
      "name": "python3"
    },
    "language_info": {
      "codemirror_mode": {
        "name": "ipython",
        "version": 3
      },
      "file_extension": ".py",
      "mimetype": "text/x-python",
      "name": "python",
      "nbconvert_exporter": "python",
      "pygments_lexer": "ipython3",
      "version": "3.12.2"
    }
  },
  "nbformat": 4,
  "nbformat_minor": 0
}
